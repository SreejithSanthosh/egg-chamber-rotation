{
 "cells": [
  {
   "cell_type": "code",
   "execution_count": 1,
   "id": "622dd390",
   "metadata": {},
   "outputs": [],
   "source": [
    "\"\"\"\n",
    "Find the difference between the fluorescence intensities of\n",
    "leading-trailing (0-10deg) and side (80-90deg) interfaces for each sample.\n",
    "Input: CSV of edge angles and mean intensity values generated using\n",
    "measure_edge_angles_and_intensities.py.\n",
    "Output: CSV with columns for condition, sample_num, leading-trailing interface\n",
    "mean, side interface mean, and the ratio between them.\n",
    "\"\"\"\n",
    "# Import packages\n",
    "import pandas as pd\n",
    "\n",
    "# Set path to data and location to output asymmetry values CSV\n",
    "DATA_DIR = ('/Users/sierraschwabach/Desktop/test_flat/')\n",
    "OUT_DIR = ('/Users/sierraschwabach/Desktop/test_flat/')\n",
    "FLUOROPHORE = 'Fat2' # match name in input file title\n",
    "\n",
    "# Import edge fluorescence by angle data\n",
    "data_path = DATA_DIR + FLUOROPHORE + '_edge_intensity_by_angle_sample.csv'\n",
    "df = pd.read_csv(data_path, index_col=0)\n",
    "\n",
    "# Find entries where edges are within 10deg of 0deg or within 10deg of 90deg\n",
    "df_0to10 = df[(df['edge_angle_rad'] < 0.174533)]\n",
    "df_80to90 = df[(df['edge_angle_rad'] > 1.39626)]\n",
    "\n",
    "# Group edge entries by genotype, then sample ID (egg chamber)\n",
    "df_0to10_grouped = df_0to10.groupby(['condition','sample_num'])\n",
    "df_80to90_grouped = df_80to90.groupby(['condition','sample_num'])\n",
    "\n",
    "# Calculate the means of each sample\n",
    "df_0to10_means = df_0to10_grouped.mean().reset_index()\n",
    "df_80to90_means = df_80to90_grouped.mean().reset_index()\n",
    "\n",
    "# Remove the now meaningless \"cell a\", \"cell b\", and \"edge angle\" columns\n",
    "df_0to10_means = df_0to10_means.drop(columns=['cell_a', 'cell_b', 'edge_angle_rad'])\n",
    "df_80to90_means = df_80to90_means.drop(columns=['cell_a', 'cell_b', 'edge_angle_rad'])\n",
    "\n",
    "# Add a column for edge angle bin category\n",
    "list_low = ['0to30']*len(df_0to10_means)\n",
    "list_high = ['60to90']*len(df_80to90_means)\n",
    "df_0to10_means['edge_angle_bin'] = list_low\n",
    "df_80to90_means['edge_angle_bin'] = list_high\n",
    "\n",
    "# Calculate asymmetry value of each sample\n",
    "asym_vals = []\n",
    "for i in range(len(df_0to10_means)):\n",
    "    fluor_0to10 = df_0to10_means.iloc[i]['mean_int_no_verts_minus_bkgd']\n",
    "    fluor_80to90 = df_80to90_means.iloc[i]['mean_int_no_verts_minus_bkgd']\n",
    "    asym_vals.append(fluor_0to10 / fluor_80to90)\n",
    "\n",
    "# Make asymmetry value dataframe, output as CSV\n",
    "df_asym = df_0to10_means[['condition', 'sample_num']].copy()\n",
    "df_asym['mean_intensity_0to10'] = df_0to10_means[['mean_int_no_verts_minus_bkgd']].copy()\n",
    "df_asym['mean_intensity_80to90'] = df_80to90_means[['mean_int_no_verts_minus_bkgd']].copy()\n",
    "df_asym['lt_over_side_enrichment'] = asym_vals\n",
    "df_path = (OUT_DIR + FLUOROPHORE +\n",
    "            '_leading_trailing_edge_enrichment_sample_10.csv')\n",
    "df_asym.to_csv(path_or_buf = df_path)"
   ]
  },
  {
   "cell_type": "code",
   "execution_count": null,
   "id": "7485dac5",
   "metadata": {},
   "outputs": [],
   "source": []
  }
 ],
 "metadata": {
  "kernelspec": {
   "display_name": "Python 3 (ipykernel)",
   "language": "python",
   "name": "python3"
  },
  "language_info": {
   "codemirror_mode": {
    "name": "ipython",
    "version": 3
   },
   "file_extension": ".py",
   "mimetype": "text/x-python",
   "name": "python",
   "nbconvert_exporter": "python",
   "pygments_lexer": "ipython3",
   "version": "3.10.4"
  }
 },
 "nbformat": 4,
 "nbformat_minor": 5
}
